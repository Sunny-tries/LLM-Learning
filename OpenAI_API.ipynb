{
  "nbformat": 4,
  "nbformat_minor": 0,
  "metadata": {
    "colab": {
      "provenance": []
    },
    "kernelspec": {
      "name": "python3",
      "display_name": "Python 3"
    },
    "language_info": {
      "name": "python"
    }
  },
  "cells": [
    {
      "cell_type": "code",
      "execution_count": 6,
      "metadata": {
        "colab": {
          "base_uri": "https://localhost:8080/"
        },
        "id": "0HZswap0NqyE",
        "outputId": "f8bb31f6-04b5-4b1b-fb1e-7bf43df08d1a"
      },
      "outputs": [
        {
          "name": "stdout",
          "output_type": "stream",
          "text": [
            "Enter the secret value: ··········\n"
          ]
        }
      ],
      "source": [
        "import openai\n",
        "import time\n",
        "from getpass import getpass\n",
        "from openai import OpenAI\n",
        "\n",
        "secret = getpass(\"Enter the secret value: \")"
      ]
    },
    {
      "cell_type": "code",
      "source": [
        "openai.api_key = secret"
      ],
      "metadata": {
        "id": "8zGgI9HwORua"
      },
      "execution_count": 4,
      "outputs": []
    },
    {
      "cell_type": "code",
      "source": [
        "message = input(\"Enter an incomplete saying or message: \")"
      ],
      "metadata": {
        "colab": {
          "base_uri": "https://localhost:8080/"
        },
        "id": "lj2y6_N0UOXV",
        "outputId": "a87916a5-1f63-4e65-e82a-cd6e542cddf3"
      },
      "execution_count": 54,
      "outputs": [
        {
          "name": "stdout",
          "output_type": "stream",
          "text": [
            "Enter an incomplete saying or message: Its better late than\n"
          ]
        }
      ]
    },
    {
      "cell_type": "code",
      "source": [
        "# Create a chat completion\n",
        "\n",
        "response = openai.chat.completions.create(\n",
        "    model=\"gpt-3.5-turbo\", # Model that is being used\n",
        "    messages=[\n",
        "        {\"role\": \"system\", \"content\": \"You will auto complete the phrase, or sentence provided to you.\"},\n",
        "        {\"role\": \"user\", \"content\": message},\n",
        "    ]\n",
        ")"
      ],
      "metadata": {
        "id": "z1IKT2WoPJTC"
      },
      "execution_count": 55,
      "outputs": []
    },
    {
      "cell_type": "code",
      "source": [
        "response.choices[0].message.content"
      ],
      "metadata": {
        "colab": {
          "base_uri": "https://localhost:8080/",
          "height": 35
        },
        "id": "D2VBSWngPjzy",
        "outputId": "d0ada1e2-89c7-4f0f-f9c2-9c11964ad10f"
      },
      "execution_count": 56,
      "outputs": [
        {
          "output_type": "execute_result",
          "data": {
            "text/plain": [
              "'never'"
            ],
            "application/vnd.google.colaboratory.intrinsic+json": {
              "type": "string"
            }
          },
          "metadata": {},
          "execution_count": 56
        }
      ]
    }
  ]
}