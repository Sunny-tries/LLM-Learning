{
  "nbformat": 4,
  "nbformat_minor": 0,
  "metadata": {
    "colab": {
      "provenance": []
    },
    "kernelspec": {
      "name": "python3",
      "display_name": "Python 3"
    },
    "language_info": {
      "name": "python"
    }
  },
  "cells": [
    {
      "cell_type": "code",
      "source": [
        "from google.colab import userdata\n",
        "key = userdata.get('hugging-Face')"
      ],
      "metadata": {
        "id": "A68Mo2hYyDtb"
      },
      "execution_count": null,
      "outputs": []
    },
    {
      "cell_type": "code",
      "source": [
        "from transformers import pipeline, Conversation"
      ],
      "metadata": {
        "id": "iXW-FzCNjadg"
      },
      "execution_count": null,
      "outputs": []
    },
    {
      "cell_type": "markdown",
      "source": [
        "## Sentiment Analysis with Transformers"
      ],
      "metadata": {
        "id": "q4Tqtt50z8yW"
      }
    },
    {
      "cell_type": "code",
      "source": [
        "classifer = pipeline(task=\"sentiment-analysis\", model=\"distilbert-base-uncased-finetuned-sst-2-english\")"
      ],
      "metadata": {
        "id": "wXMdtYeIjjjn"
      },
      "execution_count": null,
      "outputs": []
    },
    {
      "cell_type": "code",
      "source": [
        "classifer(\"I think you're an amazing person\")"
      ],
      "metadata": {
        "colab": {
          "base_uri": "https://localhost:8080/"
        },
        "id": "jCmUBxLXqFJ_",
        "outputId": "6a33255f-d77c-43db-e8bf-0108933b486d"
      },
      "execution_count": null,
      "outputs": [
        {
          "output_type": "execute_result",
          "data": {
            "text/plain": [
              "[{'label': 'POSITIVE', 'score': 0.9998807907104492}]"
            ]
          },
          "metadata": {},
          "execution_count": 74
        }
      ]
    },
    {
      "cell_type": "markdown",
      "source": [
        "## Summarization with Transformers"
      ],
      "metadata": {
        "id": "3s5eMUGty8MN"
      }
    },
    {
      "cell_type": "code",
      "source": [
        "summarize = pipeline(\"summarization\", model=\"facebook/bart-large-cnn\")"
      ],
      "metadata": {
        "id": "rI_xwZrgzO6t"
      },
      "execution_count": null,
      "outputs": []
    },
    {
      "cell_type": "code",
      "source": [
        "text = \"\"\"\n",
        "In the \"Naruto\" series, the Tailed Beasts, or Bijuu, are incredibly powerful, ancient creatures, each possessing immense chakra and unique characteristics. There are nine Tailed Beasts, each associated with a different number of tails, ranging from one to nine. These beasts include the One-Tail (Shukaku), Two-Tails (Matatabi), Three-Tails (Isobu), Four-Tails (Kokuou), Five-Tails (Saiken), Six-Tails (Gyuki), Seven-Tails (Chomei), Eight-Tails (Gyuki), and Nine-Tails (Kurama).\n",
        "The Tailed Beasts are known for their vast chakra reserves, which are almost limitless and can significantly enhance the abilities of those who can harness their power. They are also known for their destructive potential, capable of causing massive devastation with their attacks. Each Bijuu has a distinct appearance and elemental affinity, contributing to their unique abilities and strengths. The Nine-Tails, Kurama, is particularly famous for its immense power, being the most formidable of all the Tailed Beasts. Throughout the series, the interaction between the Tailed Beasts and their Jinchuriki (hosts) plays a central role in the storyline, with their powers often being pivotal in battles and conflicts.\n",
        "\"\"\""
      ],
      "metadata": {
        "id": "fCh3aSd7zTT1"
      },
      "execution_count": null,
      "outputs": []
    },
    {
      "cell_type": "code",
      "source": [
        "text_summarized = summarize(text, min_length = 20, max_length = 120)[0]['summary_text']"
      ],
      "metadata": {
        "id": "cDQcWIbNzk9u"
      },
      "execution_count": null,
      "outputs": []
    },
    {
      "cell_type": "code",
      "source": [
        "text_summarized"
      ],
      "metadata": {
        "colab": {
          "base_uri": "https://localhost:8080/",
          "height": 53
        },
        "id": "tlG105ACz3km",
        "outputId": "8abed1c7-26e9-43e7-bf35-8caf006a538c"
      },
      "execution_count": null,
      "outputs": [
        {
          "output_type": "execute_result",
          "data": {
            "text/plain": [
              "'There are nine Tailed Beasts, each associated with a different number of tails, ranging from one to nine. They are known for their vast chakra reserves, which are almost limitless. The Nine-Tails, Kurama, is particularly famous for its immense power.'"
            ],
            "application/vnd.google.colaboratory.intrinsic+json": {
              "type": "string"
            }
          },
          "metadata": {},
          "execution_count": 78
        }
      ]
    },
    {
      "cell_type": "markdown",
      "source": [
        "## Conversational with Transformers\n",
        "Small models all running locally"
      ],
      "metadata": {
        "id": "qMp1T9vY3S1I"
      }
    },
    {
      "cell_type": "code",
      "source": [
        "chatbot = pipeline(model='facebook/blenderbot-400M-distill')"
      ],
      "metadata": {
        "id": "KNvoBrK-0B5z"
      },
      "execution_count": null,
      "outputs": []
    },
    {
      "cell_type": "code",
      "source": [
        "conversation = Conversation(\"Its so hot outside, I want to drink something refreshing - any suggestions?\")\n",
        "conversation[0]"
      ],
      "metadata": {
        "colab": {
          "base_uri": "https://localhost:8080/"
        },
        "id": "ux4sdnoq3pyw",
        "outputId": "5e312c62-6011-40c9-c2dc-44ce2802aec2"
      },
      "execution_count": null,
      "outputs": [
        {
          "output_type": "execute_result",
          "data": {
            "text/plain": [
              "{'role': 'user',\n",
              " 'content': 'Its so hot outside, I want to drink something refreshing - any suggestions?'}"
            ]
          },
          "metadata": {},
          "execution_count": 80
        }
      ]
    },
    {
      "cell_type": "code",
      "source": [
        "conversation.mark_processed()"
      ],
      "metadata": {
        "id": "awzFYKu2352U"
      },
      "execution_count": null,
      "outputs": []
    },
    {
      "cell_type": "code",
      "source": [
        "conversation.append_response(chatbot(conversation[0]['content']))"
      ],
      "metadata": {
        "id": "AhlMFsKR6IGW"
      },
      "execution_count": null,
      "outputs": []
    },
    {
      "cell_type": "code",
      "source": [
        "conversation"
      ],
      "metadata": {
        "colab": {
          "base_uri": "https://localhost:8080/"
        },
        "id": "RJxsaFBz8vwp",
        "outputId": "643d6b1c-a3ea-4971-d1c8-ea9b7d09445f"
      },
      "execution_count": null,
      "outputs": [
        {
          "output_type": "execute_result",
          "data": {
            "text/plain": [
              "Conversation id: 7e529c3c-99a8-48e1-af9d-bbc324c0edef\n",
              "user: Its so hot outside, I want to drink something refreshing - any suggestions?\n",
              "assistant: [{'generated_text': ' I love a cold glass of cold brew on a hot summer evening. '}]"
            ]
          },
          "metadata": {},
          "execution_count": 83
        }
      ]
    },
    {
      "cell_type": "code",
      "source": [
        "conversation.add_user_input(\"Do you like your cold brew with milk or sugar\")"
      ],
      "metadata": {
        "id": "qfw7sdVh4QLw"
      },
      "execution_count": null,
      "outputs": []
    },
    {
      "cell_type": "code",
      "source": [
        "conversation.mark_processed()"
      ],
      "metadata": {
        "id": "HUdfSlxV4466"
      },
      "execution_count": null,
      "outputs": []
    },
    {
      "cell_type": "code",
      "source": [
        "conversation\n",
        "conversation[2]['content']"
      ],
      "metadata": {
        "colab": {
          "base_uri": "https://localhost:8080/",
          "height": 35
        },
        "id": "0QYLMm845KaD",
        "outputId": "a9e8f0da-4ca6-42ad-e1bc-5d5d0c67a6a6"
      },
      "execution_count": null,
      "outputs": [
        {
          "output_type": "execute_result",
          "data": {
            "text/plain": [
              "'Do you like your cold brew with milk or sugar'"
            ],
            "application/vnd.google.colaboratory.intrinsic+json": {
              "type": "string"
            }
          },
          "metadata": {},
          "execution_count": 86
        }
      ]
    },
    {
      "cell_type": "code",
      "source": [
        "conversation.append_response(chatbot(conversation[2]['content']))"
      ],
      "metadata": {
        "id": "8A9AVzH45MGj"
      },
      "execution_count": null,
      "outputs": []
    },
    {
      "cell_type": "code",
      "source": [
        "conversation[len(conversation) - 2]['content']"
      ],
      "metadata": {
        "colab": {
          "base_uri": "https://localhost:8080/",
          "height": 35
        },
        "id": "SC5CVHZ1Moaj",
        "outputId": "ffdee0df-7f06-4fbc-ec4e-c05bd29ebf4c"
      },
      "execution_count": null,
      "outputs": [
        {
          "output_type": "execute_result",
          "data": {
            "text/plain": [
              "'My cousin is very lactose intolerant. What should he do? Besides poop himself all day laugh out loud!'"
            ],
            "application/vnd.google.colaboratory.intrinsic+json": {
              "type": "string"
            }
          },
          "metadata": {},
          "execution_count": 113
        }
      ]
    },
    {
      "cell_type": "code",
      "source": [
        "len(conversation)"
      ],
      "metadata": {
        "colab": {
          "base_uri": "https://localhost:8080/"
        },
        "id": "ahDMPQ7Y8Ecx",
        "outputId": "2e1c91b7-5e65-4b7b-8992-9df12b52f1a3"
      },
      "execution_count": null,
      "outputs": [
        {
          "output_type": "execute_result",
          "data": {
            "text/plain": [
              "6"
            ]
          },
          "metadata": {},
          "execution_count": 108
        }
      ]
    },
    {
      "cell_type": "code",
      "source": [
        "conversation.add_user_input(\"My cousin is very lactose intolerant. What should he do? Besides poop himself all day laugh out loud!\")"
      ],
      "metadata": {
        "id": "ZDSRURDc8V52"
      },
      "execution_count": null,
      "outputs": []
    },
    {
      "cell_type": "code",
      "source": [
        "conversation.mark_processed()"
      ],
      "metadata": {
        "id": "gufaRuN39QFt"
      },
      "execution_count": null,
      "outputs": []
    },
    {
      "cell_type": "code",
      "source": [
        "conversation.append_response(chatbot(conversation[4]['content']))"
      ],
      "metadata": {
        "id": "6fxxdiJe9RXu"
      },
      "execution_count": null,
      "outputs": []
    },
    {
      "cell_type": "code",
      "source": [
        "conversation"
      ],
      "metadata": {
        "colab": {
          "base_uri": "https://localhost:8080/"
        },
        "id": "DqbWNQkJ9Vpt",
        "outputId": "14003747-6165-4bbf-e357-e5ca08cc833b"
      },
      "execution_count": null,
      "outputs": [
        {
          "output_type": "execute_result",
          "data": {
            "text/plain": [
              "Conversation id: 7e529c3c-99a8-48e1-af9d-bbc324c0edef\n",
              "user: Its so hot outside, I want to drink something refreshing - any suggestions?\n",
              "assistant: [{'generated_text': ' I love a cold glass of cold brew on a hot summer evening. '}]\n",
              "user: Do you like your cold brew with milk or sugar\n",
              "assistant: [{'generated_text': ' I like mine with a little bit of milk and a bit of sugar. How about you?'}]\n",
              "user: My cousin is very lactose intolerant. What should he do? Besides poop himself all day laugh out loud!\n",
              "assistant: [{'generated_text': \" I'm sorry to hear that.  I know how that can be.  Have you tried to talk to him about it?\"}]"
            ]
          },
          "metadata": {},
          "execution_count": 96
        }
      ]
    }
  ]
}