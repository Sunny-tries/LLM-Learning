{
  "nbformat": 4,
  "nbformat_minor": 0,
  "metadata": {
    "colab": {
      "provenance": []
    },
    "kernelspec": {
      "name": "python3",
      "display_name": "Python 3"
    },
    "language_info": {
      "name": "python"
    }
  },
  "cells": [
    {
      "cell_type": "code",
      "source": [
        "from google.colab import userdata\n",
        "key = userdata.get('hugging-Face')"
      ],
      "metadata": {
        "id": "dQnjs5d9_NMd"
      },
      "execution_count": null,
      "outputs": []
    },
    {
      "cell_type": "code",
      "execution_count": null,
      "metadata": {
        "colab": {
          "base_uri": "https://localhost:8080/",
          "height": 626
        },
        "id": "V_brtsCE-aUu",
        "outputId": "3d932d3e-b863-4f29-c781-b9b17bef02ff"
      },
      "outputs": [
        {
          "output_type": "stream",
          "name": "stdout",
          "text": [
            "Setting queue=True in a Colab notebook requires sharing enabled. Setting `share=True` (you can turn this off by setting `share=False` in `launch()` explicitly).\n",
            "\n",
            "Colab notebook detected. This cell will run indefinitely so that you can see errors and logs. To turn off, set debug=False in launch().\n",
            "Running on public URL: https://31820e58062ea814fa.gradio.live\n",
            "\n",
            "This share link expires in 72 hours. For free permanent hosting and GPU upgrades, run `gradio deploy` from Terminal to deploy to Spaces (https://huggingface.co/spaces)\n"
          ]
        },
        {
          "output_type": "display_data",
          "data": {
            "text/plain": [
              "<IPython.core.display.HTML object>"
            ],
            "text/html": [
              "<div><iframe src=\"https://31820e58062ea814fa.gradio.live\" width=\"100%\" height=\"500\" allow=\"autoplay; camera; microphone; clipboard-read; clipboard-write;\" frameborder=\"0\" allowfullscreen></iframe></div>"
            ]
          },
          "metadata": {}
        }
      ],
      "source": [
        "from google.colab import userdata\n",
        "from transformers import pipeline, Conversation\n",
        "import gradio as gr\n",
        "\n",
        "key = userdata.get('hugging-Face')\n",
        "chatbot = pipeline(model=\"facebook/blenderbot-400M-distill\")\n",
        "\n",
        "message_list = []\n",
        "response_list = []\n",
        "\n",
        "def barebone_chatbot(message, history):\n",
        "    new_conversation = Conversation(text=message, past_user_inputs=message_list, generated_responses=response_list)\n",
        "    new_conversation = chatbot(new_conversation[len(new_conversation) - 2]['content'])\n",
        "\n",
        "    return new_conversation[len(new_conversation) - 1]['generated_text']\n",
        "\n",
        "demo_chatbot = gr.ChatInterface(barebone_chatbot, title=\"Sunny's Barebones Chatbot\", description=\"Enter text to start yapping!.\")\n",
        "demo_chatbot.launch(debug=True)"
      ]
    }
  ]
}